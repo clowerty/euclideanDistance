{
 "cells": [
  {
   "cell_type": "code",
   "execution_count": 16,
   "id": "cb0bf139-6e82-41d5-a863-0988a4737b2e",
   "metadata": {},
   "outputs": [
    {
     "name": "stdout",
     "output_type": "stream",
     "text": [
      "Noktalar arasındaki mesafeler:\n",
      "Mesafe 1: 38.47076812334269\n",
      "Mesafe 2: 34.132096331752024\n",
      "Mesafe 3: 41.048751503547585\n",
      "Mesafe 4: 17.11724276862369\n",
      "Mesafe 5: 5.0\n",
      "Mesafe 6: 8.54400374531753\n",
      "Mesafe 7: 22.47220505424423\n",
      "Mesafe 8: 8.602325267042627\n",
      "Mesafe 9: 17.72004514666935\n",
      "Mesafe 10: 24.0\n"
     ]
    }
   ],
   "source": [
    "import math\n",
    "points=[(10,44),(4,6),(7,10),(12,3),(12,27)]\n",
    "def euclideanDistance(point1,point2):\n",
    "    x1,y1=point1\n",
    "    x2,y2=point2\n",
    "    return math.sqrt((x2-x1)**2+(y2-y1)**2)\n",
    "distances=[]\n",
    "for i in range (len(points)):\n",
    "    for j in range (i+1,len(points)):\n",
    "        distance_main=euclideanDistance(points[i], points[j])\n",
    "        distances.append(distance_main)\n",
    "print(\"Noktalar arasındaki mesafeler:\")\n",
    "for i, distance in enumerate(distances, start=1):\n",
    "    print(f\"Mesafe {i}: {distance}\")\n",
    "\n",
    "\n",
    "    \n"
   ]
  },
  {
   "cell_type": "code",
   "execution_count": null,
   "id": "63a6776d-0b82-4be8-ac8b-0ed58a8d4c57",
   "metadata": {},
   "outputs": [],
   "source": []
  },
  {
   "cell_type": "code",
   "execution_count": null,
   "id": "a1bd5222-ef10-4f12-bc34-9ed8a6c87ce6",
   "metadata": {},
   "outputs": [],
   "source": []
  }
 ],
 "metadata": {
  "kernelspec": {
   "display_name": "Python 3 (ipykernel)",
   "language": "python",
   "name": "python3"
  },
  "language_info": {
   "codemirror_mode": {
    "name": "ipython",
    "version": 3
   },
   "file_extension": ".py",
   "mimetype": "text/x-python",
   "name": "python",
   "nbconvert_exporter": "python",
   "pygments_lexer": "ipython3",
   "version": "3.11.7"
  }
 },
 "nbformat": 4,
 "nbformat_minor": 5
}
